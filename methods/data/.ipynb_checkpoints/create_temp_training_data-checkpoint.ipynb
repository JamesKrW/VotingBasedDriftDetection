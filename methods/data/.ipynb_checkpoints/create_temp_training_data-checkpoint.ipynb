{
 "cells": [
  {
   "cell_type": "code",
   "execution_count": 37,
   "id": "f46cabd4",
   "metadata": {},
   "outputs": [
    {
     "name": "stdout",
     "output_type": "stream",
     "text": [
      "3412\n"
     ]
    }
   ],
   "source": [
    "#get paper id and it's cited papers\n",
    "\n",
    "import os\n",
    "import pickle\n",
    "import os.path as osp\n",
    "class paper:\n",
    "    def __init__(self):\n",
    "        arxiv_id=\"\"\n",
    "        title=\"\"\n",
    "        abstract=\"\"\n",
    "        train_id=\"\"\n",
    "        cited_paper=[]\n",
    "        author=[]\n",
    "        clean_cited=[]\n",
    "    def info(self):\n",
    "        print(arxiv_id)\n",
    "        print(title)\n",
    "        print(train_id)\n",
    "        print(author)\n",
    "        \n",
    "paper_list=[]\n",
    "path=\"/home/cc/github/ref-sum/arxivparse/data/2023-02-25T03-15-12\"\n",
    "cnt=0\n",
    "for r, ds, fs in os.walk(path): \n",
    "    for f in fs: \n",
    "        if f.endswith(\".pickle\"):\n",
    "            p=paper()\n",
    "            p.pid=f.split('_')[0].split('v')[0]\n",
    "            f_p=osp.join(r,f)\n",
    "            with open(f_p,'rb') as file:\n",
    "                p.cited_paper= pickle.load(file)\n",
    "            cnt+=1\n",
    "            paper_list.append(p)\n",
    "print(cnt)"
   ]
  },
  {
   "cell_type": "code",
   "execution_count": 2,
   "id": "5a5ae011",
   "metadata": {},
   "outputs": [
    {
     "data": {
      "text/plain": [
       "{'author': ['Kumar, Ajay',\n",
       "  'Singh, Shashank Sheshar',\n",
       "  'Singh, Kuldeep',\n",
       "  'Biswas, Bhaskar'],\n",
       " 'title': 'Link prediction techniques, applications, and performance: A survey',\n",
       " 'year': 'Link prediction techniques, applications, and performance: A survey',\n",
       " 'venue': 'Physica A: Statistical Mechanics and its Applications',\n",
       " 'abstract': None,\n",
       " 'other_information': None}"
      ]
     },
     "execution_count": 2,
     "metadata": {},
     "output_type": "execute_result"
    }
   ],
   "source": [
    "paper_list[0].cited_paper[0]"
   ]
  },
  {
   "cell_type": "code",
   "execution_count": 3,
   "id": "f2ff9312",
   "metadata": {},
   "outputs": [
    {
     "data": {
      "text/plain": [
       "'2212.12488'"
      ]
     },
     "execution_count": 3,
     "metadata": {},
     "output_type": "execute_result"
    }
   ],
   "source": [
    "paper_list[0].pid"
   ]
  },
  {
   "cell_type": "code",
   "execution_count": 4,
   "id": "9d60e74c",
   "metadata": {},
   "outputs": [],
   "source": [
    "# get arxiv meta data\n",
    "import json\n",
    "path=\"/home/cc/github/ref-sum/arxivparse/data/arxiv_meta/arxiv-metadata-oai-snapshot.json\"\n",
    "with open(path,'r') as f:\n",
    "    json_data = [json.loads(line) for line in f]"
   ]
  },
  {
   "cell_type": "code",
   "execution_count": 5,
   "id": "769107bd",
   "metadata": {},
   "outputs": [
    {
     "data": {
      "text/plain": [
       "{'id': '0704.0001',\n",
       " 'submitter': 'Pavel Nadolsky',\n",
       " 'authors': \"C. Bal\\\\'azs, E. L. Berger, P. M. Nadolsky, C.-P. Yuan\",\n",
       " 'title': 'Calculation of prompt diphoton production cross sections at Tevatron and\\n  LHC energies',\n",
       " 'comments': '37 pages, 15 figures; published version',\n",
       " 'journal-ref': 'Phys.Rev.D76:013009,2007',\n",
       " 'doi': '10.1103/PhysRevD.76.013009',\n",
       " 'report-no': 'ANL-HEP-PR-07-12',\n",
       " 'categories': 'hep-ph',\n",
       " 'license': None,\n",
       " 'abstract': '  A fully differential calculation in perturbative quantum chromodynamics is\\npresented for the production of massive photon pairs at hadron colliders. All\\nnext-to-leading order perturbative contributions from quark-antiquark,\\ngluon-(anti)quark, and gluon-gluon subprocesses are included, as well as\\nall-orders resummation of initial-state gluon radiation valid at\\nnext-to-next-to-leading logarithmic accuracy. The region of phase space is\\nspecified in which the calculation is most reliable. Good agreement is\\ndemonstrated with data from the Fermilab Tevatron, and predictions are made for\\nmore detailed tests with CDF and DO data. Predictions are shown for\\ndistributions of diphoton pairs produced at the energy of the Large Hadron\\nCollider (LHC). Distributions of the diphoton pairs from the decay of a Higgs\\nboson are contrasted with those produced from QCD processes at the LHC, showing\\nthat enhanced sensitivity to the signal can be obtained with judicious\\nselection of events.\\n',\n",
       " 'versions': [{'version': 'v1', 'created': 'Mon, 2 Apr 2007 19:18:42 GMT'},\n",
       "  {'version': 'v2', 'created': 'Tue, 24 Jul 2007 20:10:27 GMT'}],\n",
       " 'update_date': '2008-11-26',\n",
       " 'authors_parsed': [['Balázs', 'C.', ''],\n",
       "  ['Berger', 'E. L.', ''],\n",
       "  ['Nadolsky', 'P. M.', ''],\n",
       "  ['Yuan', 'C. -P.', '']]}"
      ]
     },
     "execution_count": 5,
     "metadata": {},
     "output_type": "execute_result"
    }
   ],
   "source": [
    "json_data[0]"
   ]
  },
  {
   "cell_type": "code",
   "execution_count": 6,
   "id": "bcc30f48",
   "metadata": {},
   "outputs": [],
   "source": [
    "# build elastic search engine\n",
    "\n",
    "from elasticsearch import Elasticsearch\n",
    "from datetime import datetime\n",
    "from elasticsearch.helpers import bulk\n",
    "es = Elasticsearch('http://localhost:9200')"
   ]
  },
  {
   "cell_type": "code",
   "execution_count": 7,
   "id": "e477c3b5",
   "metadata": {},
   "outputs": [
    {
     "name": "stderr",
     "output_type": "stream",
     "text": [
      "/tmp/ipykernel_205165/1959045932.py:10: ElasticsearchWarning: Elasticsearch built-in security features are not enabled. Without authentication, your cluster could be accessible to anyone. See https://www.elastic.co/guide/en/elasticsearch/reference/7.17/security-minimal-setup.html to enable security.\n",
      "  es.indices.create(index=\"arxiv\", mappings=mappings)\n",
      "/tmp/ipykernel_205165/1959045932.py:25: ElasticsearchWarning: Elasticsearch built-in security features are not enabled. Without authentication, your cluster could be accessible to anyone. See https://www.elastic.co/guide/en/elasticsearch/reference/7.17/security-minimal-setup.html to enable security.\n",
      "  bulk(es, bulk_data)\n"
     ]
    },
    {
     "data": {
      "text/plain": [
       "(2207558, [])"
      ]
     },
     "execution_count": 7,
     "metadata": {},
     "output_type": "execute_result"
    }
   ],
   "source": [
    "# insert meta data into elastic search\n",
    "mappings = {\n",
    "        \"properties\": {\n",
    "            \"title\": {\"type\": \"text\", \"analyzer\": \"english\"},\n",
    "            \"abstract\":{\"type\": \"text\", \"analyzer\": \"english\"},\n",
    "            \"authors\":{\"type\": \"text\", \"analyzer\": \"english\"},\n",
    "    }\n",
    "}\n",
    "\n",
    "es.indices.create(index=\"arxiv\", mappings=mappings)\n",
    "bulk_data =[]\n",
    "for indx, item in enumerate(json_data):\n",
    "    bulk_data.append(\n",
    "    {\n",
    "        \"_index\":\"arxiv\",\n",
    "        \"_id\":f\"{indx}\", \n",
    "        \"_source\":{\n",
    "            \"title\": item['title'],\n",
    "            \"abstract\":item['abstract'],\n",
    "            \"authors\":item['authors'],\n",
    "            \"id\":item['id'],\n",
    "        }\n",
    "    }\n",
    "    )\n",
    "bulk(es, bulk_data)"
   ]
  },
  {
   "cell_type": "code",
   "execution_count": 8,
   "id": "5e182830",
   "metadata": {},
   "outputs": [
    {
     "name": "stderr",
     "output_type": "stream",
     "text": [
      "/tmp/ipykernel_205165/3554657713.py:1: ElasticsearchWarning: Elasticsearch built-in security features are not enabled. Without authentication, your cluster could be accessible to anyone. See https://www.elastic.co/guide/en/elasticsearch/reference/7.17/security-minimal-setup.html to enable security.\n",
      "  es.cat.count(index='arxiv', format ='json')\n"
     ]
    },
    {
     "data": {
      "text/plain": [
       "ListApiResponse([{'epoch': '1677362941', 'timestamp': '22:09:01', 'count': '2207558'}])"
      ]
     },
     "execution_count": 8,
     "metadata": {},
     "output_type": "execute_result"
    }
   ],
   "source": [
    "es.cat.count(index='arxiv', format ='json')"
   ]
  },
  {
   "cell_type": "code",
   "execution_count": 19,
   "id": "22d553cb",
   "metadata": {},
   "outputs": [],
   "source": [
    "def query_title(title:str)->dict:\n",
    "    resp2 = es.search(\n",
    "    index=\"arxiv\",\n",
    "    body={\n",
    "        \"query\": {\n",
    "            \"multi_match\": {  \n",
    "            \"query\": f\"{title}\",\n",
    "            \"fields\": [\"title\"]\n",
    "            },\n",
    "        },            \n",
    "    }\n",
    "    \n",
    ")\n",
    "    return resp2['hits']\n",
    "\n",
    "def query_id(idx:str)->dict:\n",
    "    resp2 = es.search(\n",
    "    index=\"arxiv\",\n",
    "    body={\n",
    "        \"query\": {\n",
    "            \"multi_match\": {  \n",
    "            \"query\": f\"{idx}\",\n",
    "            \"fields\": [\"id\"]\n",
    "            },\n",
    "        },            \n",
    "    }\n",
    "    \n",
    ")\n",
    "    return resp2['hits']"
   ]
  },
  {
   "cell_type": "code",
   "execution_count": 31,
   "id": "bbb7d54f",
   "metadata": {},
   "outputs": [
    {
     "name": "stderr",
     "output_type": "stream",
     "text": [
      "/tmp/ipykernel_205165/1406031122.py:17: DeprecationWarning: The 'body' parameter is deprecated and will be removed in a future version. Instead use individual parameters.\n",
      "  resp2 = es.search(\n",
      "/tmp/ipykernel_205165/1406031122.py:17: ElasticsearchWarning: Elasticsearch built-in security features are not enabled. Without authentication, your cluster could be accessible to anyone. See https://www.elastic.co/guide/en/elasticsearch/reference/7.17/security-minimal-setup.html to enable security.\n",
      "  resp2 = es.search(\n"
     ]
    },
    {
     "data": {
      "text/plain": [
       "{'_index': 'arxiv',\n",
       " '_type': '_doc',\n",
       " '_id': '0',\n",
       " '_score': 15.846536,\n",
       " '_source': {'title': 'Calculation of prompt diphoton production cross sections at Tevatron and\\n  LHC energies',\n",
       "  'abstract': '  A fully differential calculation in perturbative quantum chromodynamics is\\npresented for the production of massive photon pairs at hadron colliders. All\\nnext-to-leading order perturbative contributions from quark-antiquark,\\ngluon-(anti)quark, and gluon-gluon subprocesses are included, as well as\\nall-orders resummation of initial-state gluon radiation valid at\\nnext-to-next-to-leading logarithmic accuracy. The region of phase space is\\nspecified in which the calculation is most reliable. Good agreement is\\ndemonstrated with data from the Fermilab Tevatron, and predictions are made for\\nmore detailed tests with CDF and DO data. Predictions are shown for\\ndistributions of diphoton pairs produced at the energy of the Large Hadron\\nCollider (LHC). Distributions of the diphoton pairs from the decay of a Higgs\\nboson are contrasted with those produced from QCD processes at the LHC, showing\\nthat enhanced sensitivity to the signal can be obtained with judicious\\nselection of events.\\n',\n",
       "  'authors': \"C. Bal\\\\'azs, E. L. Berger, P. M. Nadolsky, C.-P. Yuan\",\n",
       "  'id': '0704.0001'}}"
      ]
     },
     "execution_count": 31,
     "metadata": {},
     "output_type": "execute_result"
    }
   ],
   "source": [
    "query_id('0704.0001')['hits'][0]"
   ]
  },
  {
   "cell_type": "code",
   "execution_count": 38,
   "id": "a6cae854",
   "metadata": {},
   "outputs": [
    {
     "name": "stderr",
     "output_type": "stream",
     "text": [
      "/tmp/ipykernel_205165/1406031122.py:17: DeprecationWarning: The 'body' parameter is deprecated and will be removed in a future version. Instead use individual parameters.\n",
      "  resp2 = es.search(\n",
      "/tmp/ipykernel_205165/1406031122.py:17: ElasticsearchWarning: Elasticsearch built-in security features are not enabled. Without authentication, your cluster could be accessible to anyone. See https://www.elastic.co/guide/en/elasticsearch/reference/7.17/security-minimal-setup.html to enable security.\n",
      "  resp2 = es.search(\n"
     ]
    }
   ],
   "source": [
    "# get meta data for paper in paper_list\n",
    "\n",
    "for idx,paper in enumerate(paper_list):\n",
    "    rst=query_id(paper.pid)['hits'][0]\n",
    "    paper.arxiv_id=rst['_source']['id']\n",
    "    paper.abstrct=rst['_source']['abstract']\n",
    "    paper.title=rst['_source']['title']\n",
    "    paper.train_id=idx"
   ]
  },
  {
   "cell_type": "code",
   "execution_count": 36,
   "id": "4d3f3429",
   "metadata": {},
   "outputs": [],
   "source": [
    "for idx,paper in enumerate(paper_list):\n",
    "    paper."
   ]
  },
  {
   "cell_type": "code",
   "execution_count": null,
   "id": "0b852e24",
   "metadata": {},
   "outputs": [],
   "source": []
  }
 ],
 "metadata": {
  "kernelspec": {
   "display_name": "ref",
   "language": "python",
   "name": "ref"
  },
  "language_info": {
   "codemirror_mode": {
    "name": "ipython",
    "version": 3
   },
   "file_extension": ".py",
   "mimetype": "text/x-python",
   "name": "python",
   "nbconvert_exporter": "python",
   "pygments_lexer": "ipython3",
   "version": "3.8.16"
  }
 },
 "nbformat": 4,
 "nbformat_minor": 5
}
